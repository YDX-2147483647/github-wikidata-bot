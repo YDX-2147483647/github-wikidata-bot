{
 "cells": [
  {
   "cell_type": "code",
   "execution_count": 4,
   "id": "40ad9c89-f286-4264-a22e-32f7c4bbea45",
   "metadata": {},
   "outputs": [],
   "source": [
    "import pywikibot\n",
    "import requests\n",
    "from pywikibot import Claim, ItemPage, WbTime\n",
    "from pywikibot.data import sparql\n",
    "from pywikibot.exceptions import APIError\n",
    "\n",
    "from github_wikidata_bot.settings import Settings"
   ]
  },
  {
   "cell_type": "code",
   "execution_count": 7,
   "id": "4ad7f249",
   "metadata": {},
   "outputs": [],
   "source": [
    "page = ItemPage(Settings.bot.repo, \"Q39238\")"
   ]
  },
  {
   "cell_type": "code",
   "execution_count": 23,
   "id": "840ed446",
   "metadata": {},
   "outputs": [
    {
     "name": "stdout",
     "output_type": "stream",
     "text": [
      "False\n",
      "False\n",
      "True\n",
      "False\n",
      "False\n",
      "False\n",
      "True\n",
      "False\n",
      "False\n",
      "False\n",
      "True\n",
      "False\n",
      "True\n",
      "False\n",
      "True\n",
      "False\n",
      "False\n"
     ]
    }
   ],
   "source": [
    "\n",
    "for claim in page.claims[\"P348\"]:\n",
    "    print(any(version_type.target.id == \"Q15726348\" for version_type in claim.qualifiers.get(\"P548\", [])))"
   ]
  },
  {
   "cell_type": "code",
   "execution_count": 25,
   "id": "f0c2c2b9",
   "metadata": {},
   "outputs": [
    {
     "data": {
      "text/plain": [
       "ItemPage('Q186055132412341234')"
      ]
     },
     "execution_count": 25,
     "metadata": {},
     "output_type": "execute_result"
    }
   ],
   "source": [
    "ItemPage(Settings.bot.repo, \"Q186055132412341234\")"
   ]
  }
 ],
 "metadata": {
  "kernelspec": {
   "display_name": "Python 3 (ipykernel)",
   "language": "python",
   "name": "python3"
  },
  "language_info": {
   "codemirror_mode": {
    "name": "ipython",
    "version": 3
   },
   "file_extension": ".py",
   "mimetype": "text/x-python",
   "name": "python",
   "nbconvert_exporter": "python",
   "pygments_lexer": "ipython3",
   "version": "3.10.10"
  }
 },
 "nbformat": 4,
 "nbformat_minor": 5
}
